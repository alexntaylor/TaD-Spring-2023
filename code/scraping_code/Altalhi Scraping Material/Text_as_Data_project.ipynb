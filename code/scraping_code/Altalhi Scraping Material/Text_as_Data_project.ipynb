{
  "nbformat": 4,
  "nbformat_minor": 0,
  "metadata": {
    "colab": {
      "name": "Text as Data project.ipynb",
      "provenance": []
    },
    "kernelspec": {
      "name": "python3",
      "display_name": "Python 3"
    },
    "language_info": {
      "name": "python"
    }
  },
  "cells": [
    {
      "cell_type": "markdown",
      "source": [
        "**Twitter Based Economic Uncertainty index**\n"
      ],
      "metadata": {
        "id": "NAv_B2rKsY0M"
      }
    },
    {
      "cell_type": "markdown",
      "source": [
        "**Using Snscrape**\n"
      ],
      "metadata": {
        "id": "HcNoksj_tkFz"
      }
    },
    {
      "cell_type": "markdown",
      "source": [
        "Installing snscrape"
      ],
      "metadata": {
        "id": "IJRyD77FuKMx"
      }
    },
    {
      "cell_type": "code",
      "source": [
        "!pip install -q snscrape==0.3.4"
      ],
      "metadata": {
        "id": "2LJbcruIsMJd"
      },
      "execution_count": null,
      "outputs": []
    },
    {
      "cell_type": "markdown",
      "source": [
        "library imports."
      ],
      "metadata": {
        "id": "ybn0S2edunwd"
      }
    },
    {
      "cell_type": "code",
      "source": [
        "\n",
        "import os\n",
        "import pandas as pd\n",
        "from datetime import date\n",
        "import csv"
      ],
      "metadata": {
        "id": "2WlS_fdXuxw9"
      },
      "execution_count": null,
      "outputs": []
    },
    {
      "cell_type": "markdown",
      "source": [
        "***Data Wrangling***\n",
        "\n",
        "\n",
        "*   Gather\n",
        "\n"
      ],
      "metadata": {
        "id": "XQKnXgRmvB1n"
      }
    },
    {
      "cell_type": "markdown",
      "source": [
        "***Total Number of Tweets_Search Terms***"
      ],
      "metadata": {
        "id": "G4PnV7etu1Gi"
      }
    },
    {
      "cell_type": "code",
      "source": [
        "# Sing a start and ends dates\n",
        "start = date(2020, 1, 1) #\"2020-01-01\"\n",
        "stop = date(2020,12, 30)"
      ],
      "metadata": {
        "id": "Ot2V0WNhu9ko"
      },
      "execution_count": null,
      "outputs": []
    },
    {
      "cell_type": "code",
      "source": [
        "#Search word\n",
        "search_term = 'happiness'"
      ],
      "metadata": {
        "id": "qqBtzk9LNkws"
      },
      "execution_count": null,
      "outputs": []
    },
    {
      "cell_type": "code",
      "source": [
        "os.system(f\"snscrape --since {start} twitter-search '{search_term} until:{stop}' > result-tweets.txt\")\n",
        "if os.stat(\"result-tweets.txt\").st_size == 0:\n",
        "  counter = 0\n",
        "else:\n",
        "  df = pd.read_csv('result-tweets.txt', names=['link'])\n",
        "  counter = df.size\n",
        "\n",
        "print('Number Of Tweets : '+ str(counter))"
      ],
      "metadata": {
        "colab": {
          "base_uri": "https://localhost:8080/"
        },
        "id": "J4zNWpGwAR2d",
        "outputId": "ed73289d-4c3e-4252-e956-02489799dd00"
      },
      "execution_count": null,
      "outputs": [
        {
          "output_type": "stream",
          "name": "stdout",
          "text": [
            "Number Of Tweets : 64431\n"
          ]
        }
      ]
    },
    {
      "cell_type": "markdown",
      "source": [
        "***Extracting Exact Tweeets***"
      ],
      "metadata": {
        "id": "m90z5E_byltP"
      }
    },
    {
      "cell_type": "code",
      "source": [
        "max_results = 100"
      ],
      "metadata": {
        "id": "nu9k0Uyxows2"
      },
      "execution_count": null,
      "outputs": []
    },
    {
      "cell_type": "code",
      "source": [
        "extracted_tweets = \"snscrape --format '{date}{content!r}'\"+ f\" --max-results {max_results} --since {start} twitter-search '{search_term} until:{stop}' > extracted-tweets.txt\"\n",
        "os.system(extracted_tweets)\n",
        "if os.stat(\"extracted-tweets.txt\").st_size == 0:\n",
        "  print('No Tweets found')\n",
        "else:\n",
        "  df = pd.read_csv('extracted-tweets.txt', names=['content'])\n",
        "  for row in df['content'].iteritems():\n",
        "    print(row)"
      ],
      "metadata": {
        "colab": {
          "base_uri": "https://localhost:8080/"
        },
        "id": "Fl9D_MXNpXa6",
        "outputId": "2e3e34b9-9c2e-43d7-87f8-63129ea151a6"
      },
      "execution_count": null,
      "outputs": [
        {
          "output_type": "stream",
          "name": "stdout",
          "text": [
            "((\"'Current emotion: I need money\", ' I need food', ' I need new clothes'), \" I need happiness.'\")\n",
            "((\"'Manifesting a new car\", ' money', \" and happiness in 2021.'\"), nan)\n",
            "((\"'#HAPPYVDAY happy birthday our #WinterBearTaehyung wish u all the best and happiness in this world #BTSV https://t.co/pJ1rbBLUsk'\", nan, nan), nan)\n",
            "((\"a wonderful day for the birthday boy only !! &lt;33 he's so adorable i wish him happiness for the rest of his life~\\\\n\\\\nhttps://t.co/NUlJw15Os2\", nan, nan), nan)\n",
            "((\"'nadaaa happy birthday may your special day be surrounded with happiness and may all be good and all come true on this special day!! stay healthy n i lovee youu!! 😘💘💘💘💘 @nadaimnidaa https://t.co/9D0tDoIutB'\", nan, nan), nan)\n",
            "((\"'i loooove youuu wishing you happiness and good health always #HappyTaehyungDay https://t.co/XrtVOwkNsm'\", nan, nan), nan)\n",
            "((\"'@bts_bighit 생일 추가해 태형 오빠🥳🥳\\\\n\\\\nYou are a special person to me because you have inspired me and a lot of people. You teaches us how to be a better person\", ' to stay positive and strong. I wish you a lot of love and happiness will surround you', \" and I hope your dream come true https://t.co/CdMQLtMMLr'\"), nan)\n",
            "((\"'@loislaneswife YESSS I WILL BE RIGHT THERE WITH YOU!!! my baby girl deserves nothing but love and happiness and i will defend her against anyone'\", nan, nan), nan)\n",
            "((\"'Happiest Birthday to my ever persistent happiness! I hope you have the most wonderful of birthdays 💜\\\\n\\\\n#HAPPYVDAY\\\\n#HappyBirthdayTaehyung\\\\n#OurSweetTaehyung\\\\n#OurInnerHappinessV\\\\n#TAEHYUNG\\\\n#VDAY\\\\n@BTS_twt https://t.co/DxpSTFtzsB'\", nan, nan), nan)\n",
            "((\"Lol😂 \\\\n\\\\nIt taught me that:\\\\n1. Loving a person wholeheartedly doesn't guarantee that they'll stay in your life forever. \\\\n2.Your best won't always be the best in another person's eye.\\\\n3. Choose your happiness.\\\\nI'll end there https://t.co/DpX1MHEPvk\", nan, nan), nan)\n",
            "((\"'@Meedinah_ @_theFisayo @AyomideSekinat @ade_ayoadee A big Happy birthday to you dear\", ' wishing you long life and prosperity in sound health', \"immeasurable wealth🤑 and eternal happiness☺\\\\n\\\\n❤❤'\"), nan)\n",
            "((\"'Happy Birthday Tae!🐻🎉🎂 You’re the king of facial expressions. I wish you more happiness and health in this new year. Your boxy smile brings me so much happiness. 🥺💜\\\\n#HAPPYVDAY \\\\n#InnerChildTaehyung \\\\n#WinterPrinceTaehyung\\\\n#HappyTaehyungDay https://t.co/QdxirZiYgU'\", nan, nan), nan)\n",
            "((\"'everything that’s holding me back is for sure not coming into the new year. Good vibes &amp; happiness all 21 💙✨'\", nan, nan), nan)\n",
            "((\"'@Elsie_geselsie @goodenough_fu @Angelou45328491 For 2021...may millions of lamps illuminate your life with endless joy\", \" health and happiness ...🍾💕🌠\\\\n\\\\nBest wishes for you all 🌠 https://t.co/DoNfkJflYt'\", nan), nan)\n",
            "((\"'@Mallow_laxy Happy birthday baby bear 🐻❄ Wishing you @bts_twt good health \\\\nand happiness in life.💜\\\\n#HAPPYVDAY\\\\n#SnowFlowerTaehyung \\\\n#HappyBirthdayTaehyung\\\\n#HappyTaehyungDay https://t.co/db2mY3Eb4A'\", nan, nan), nan)\n",
            "((\"'Happy Birthday Joshua Hong! 💛🤪 Hope that next year there will be lots of happiness\", \" health and often upload your selcas hngg oghey💛🤪\\\\n#HappyJOSHUAday\\\\n#공방쉽니다_슈아사장님_생일이라서요 \\\\n#AHLOVEisSHUA @pledis_17 https://t.co/4iYtzg8lEm'\", nan), nan)\n",
            "((\"'Happiness over everything'\", nan, nan), nan)\n",
            "((\"'@lockrocks80 @porkchophawaii It’s almost sad how excited he gets. But any happiness we bring to lesser developed beings will surely be rewarded in the long run.'\", nan, nan), nan)\n",
            "((\"'like with my relationship\", ' money', ' happiness'), \" just EVERYTHING😭'\")\n",
            "((\"'To Tony from Wales\", \"\\\\n\\\\nThank you for this.  45 years of sobriety is a proud moment to be celebrated.  The person who introduced me to the freedom &amp; happiness of the sober life had 47 years of sobriety when he left our world. https://t.co/Xfk4q90BeP'\", nan), nan)\n",
            "((\"'Happy Birthday Amanda!! Wish you all the love and happiness in the world. Hope this day has been as special as you 💚 @elmo3907'\", nan, nan), nan)\n",
            "(('\\'Kim taehyung : \"I hope that white flowers come down to your hearts and feel a bit of warmth and happiness \" \\\\n金泰亨1230生日快乐\\\\n#HAPPYVDAY\\\\n#HappyTaehyungDay\\\\n#태형이의_명화영화동화_26년째_연재중\\\\n#テテボラへ\\\\n#MilagroDeViciembre\\\\n  يوم ميلاد سعيد تاي\\\\n#SnowFlowerTaehyung https://t.co/z5Eiery6iP\\'', nan, nan), nan)\n",
            "((\"'Billionaires have forfeited their rights to life\", ' liberty', ' and the pursuit of happiness via their exploitation'), ' imperialism')\n",
            "((\"'#What2020TaughtMe is that there is true happiness with NCT! Stanning them is on of the best decision I ever made! Cheers to more success and happiness 💚'\", nan, nan), nan)\n",
            "((\"I'm so afraid of finding happiness and love you have no idea https://t.co/V9SKas3z4q\", nan, nan), nan)\n",
            "((\"'Watch Black love! Watch happiness! Watch mi fren a flourish wid har boo! \\\\nLove this for you\", \" bb!!! 😁♥️🙌🏾 https://t.co/TqlUr476YD'\", nan), nan)\n",
            "((\"'Spread love and happiness 🌹❤️🌹\\\\n\\\\nHeal the world 🌏 https://t.co/SO8L5W1fR8'\", nan, nan), nan)\n",
            "((\"'Create your own form of happiness. Nothing is more important than self happiness 💙 https://t.co/A6MoljPP8Q'\", nan, nan), nan)\n",
            "((\"'happiness over history... I’m not settling for nothing 💯'\", nan, nan), nan)\n",
            "((\"'@cnnbrk Logic ???\\\\n\\\\nDoctors die too 😭😭\\\\n\\\\nWishing doctors great health and happiness.\\\\n\\\\nBravest human at this planet ( Doctors &amp; Nurses in COVID -ICU)\\\\n\\\\nGOD is omnipresent.....please improve yourself at the extreme level......to be able to connect with GOD/ALLAH/SHIV/etc.\\\\n\\\\nBEST OF LUCK.'\", nan, nan), nan)\n",
            "((\"'@hotteok_pwr happy birthday tae i hope you have an amazing day full of happiness and that you’re surrounded by the people who love you! thank you for bringing so much love and positivity into the world ilysm &amp; stay safe! 💜'\", nan, nan), nan)\n",
            "((\"'A Short Pep Talk about Truly Being Yourself | HEYashley https://t.co/Q0JS8XTN3w via @YouTube #peptalk #sufferinsilencetype #reachout #mentalhealth #selflove #selfworth #igetbywithalittlehelpfrommyfriends #lifecoach #reikimaster #yogateacher #highvibe #healing #happiness'\", nan, nan), nan)\n",
            "((\"'@cnnbrk Logic ???\\\\n\\\\nDoctors die too 😭😭\\\\n\\\\nWishing doctors great health and happiness.\\\\n\\\\nBravest human at this planet ( Doctors &amp; Nurses in COVID -ICU)\\\\n\\\\nGOD is omnipresent.....please improve yourself at the extreme level......to be able to connect with GOD/ALLAH/SHIV/etc.\\\\n\\\\nBEST OF LUCK..'\", nan, nan), nan)\n",
            "((\"'The way happiness is a skip because it’s so long and so slow'\", nan, nan), nan)\n",
            "((\"“Plenty of people miss their share of happiness, not because they never found it, but because they didn't stop to enjoy it.”\\\\n\\\\n❤️Good Morning dear friends. . Have a wonderful Wednesday. May it be a fantastic one for you and all your loved ones❤️ https://t.co/o000YS1TBB\", nan, nan), nan)\n",
            "((\"'happy birthday to this angel! ARMYs love you so much. your happiness and well being is important for us baby so be well! celebrate this special day with your special loved ones bub! BORAHAE💜 #HappyTaehyungDay #HAPPYVDAY \\\\n@BTS_twt https://t.co/dAuglnr0uF'\", nan, nan), nan)\n",
            "((\"'I wish awareness\", ' clarity', \" and happiness on everyone!'\"), nan)\n",
            "((\"'@cnnbrk Logic ???\\\\n\\\\nDoctors die too 😭😭\\\\n\\\\nWishing doctors great health and happiness.\\\\n\\\\nBravest human at this planet ( Doctors &amp; Nurses in COVID -ICU)\\\\n\\\\nGOD is omnipresent.....please improve yourself at the extreme level......to be able to connect with GOD/ALLAH/SHIV/etc.\\\\n\\\\nBEST OF LUCK...'\", nan, nan), nan)\n",
            "((\"'@BTS_twt #V #Taehyungbirthday\\\\nHappy Birthday our Winter 🐻. Wishing you more happiness and good health.❤️\\\\nEnjoy your day!!! 🥰🥰🥰\\\\n💜💜💜💜💜💜💜♾️ https://t.co/WF9XFYsRK7'\", nan, nan), nan)\n",
            "((\"'@cnnbrk Logic ???\\\\n\\\\nDoctors die too 😭😭\\\\n\\\\nWishing doctors great health and happiness.\\\\n\\\\nBravest human at this planet ( Doctors &amp; Nurses in COVID -ICU)\\\\n\\\\nGOD is omnipresent.....please improve yourself at the extreme level......to be able to connect with GOD/ALLAH/SHIV/etc.\\\\n\\\\nBEST OF LUCK.....'\", nan, nan), nan)\n",
            "((\"'@bts_bighit Happy birthday (V) 🎉🎉I wish you all happiness and goodness in your life. You are the best❤🥀'\", nan, nan), nan)\n",
            "((\"'happiest birthday to my blue and gray\", ' tete! please always be close with happiness', \" i love you so much\\\\n\\\\n#HappyBirthdayTaehyung\\\\n#WinterPrinceTaehyung\\\\n#OurlnnerHappinessV #SnowFlowerTaehyung\\\\n#VLoveYouEternally \\\\n#BornHistoryMakerV\\\\n#HAPPYVDAY @BTS_twt https://t.co/tcQbQxfP0N'\"), nan)\n",
            "((\"'@BTS_twt Happy birthday my happiness V\", ' wish u always happy and healthy', ' no matter what happen I will stand by yourside'), ' thankyou god for send us angel like V')\n",
            "((\"@jhaleauthor I feel like it's acceptable to keep them up until the virus is contained. 🤷🏼\\\\u200d♀️ Embrace happiness where you can find it.\", nan, nan), nan)\n",
            "((\"'Happy Birthday Tae. Thank you for all the light and happiness that you have sprinkled all over us. Wish u all the happiness in the world. God Bless 😘💜 @BTS_twt https://t.co/xb5ALGWS8K'\", nan, nan), nan)\n",
            "(('\\'Tell me what you think when you hear/read the phrase \"synthetic happiness\". What does that mean to you? I heard it mentioned on the radio on my drive home one night and it really brought me back to my academic roots.\\'', nan, nan), nan)\n",
            "(('\\'\"Change your thinking &amp; behavioral habits &amp; your brain changes. Your brain has the ability to organize and reorganize itself during your lifetime.\" 3 Secrets To Changing Your Brain For Greater Success And Happiness You May Not Know! https://t.co/Pd55ZyYo1c https://t.co/vtxHRhILE9\\'', nan, nan), nan)\n",
            "((\"'@emmanuel_awoke Happy birthday boo wishing you long life and prosperity and happiness in your endeavors'\", nan, nan), nan)\n",
            "((\"'@kIopptimistic So thank you for being an indirect source of happiness and positivity that’s helped make me feel a little better'\", nan, nan), nan)\n",
            "(('\\'.@bts_bighit @BTSW_official\\\\nHappy Happy Birthday to the \"total entertainer\" of #BTS\\\\nMay you have good health', ' happiness &amp; more years as a group. \\\\nYou can eventually go solo as a career', \" CHEERS🙃!\\\\n#HAPPYVDAY\\\\n#Taehyungbirthday \\\\n#TaehyungOnBurjKhalifa\\\\n#BTSVDay https://t.co/XesO1TABYi'\"), nan)\n",
            "((\"'Making Happiness\\\\nhttps://t.co/IkGGabOdqp'\", nan, nan), nan)\n",
            "((\"'@wydesk happiness 🙏🏻'\", nan, nan), nan)\n",
            "((\"'Happy birthday bang raka” @BAGXJA_ @taehyunqgv @kuntogro @jfomblo @ranjger @taehyugk @brijadier @jfenderal @mrvtae_ may god bless you\", ' i wish for your happiness', ' health'), ' always successful')\n",
            "(('\\'\"Change your thinking &amp; behavioral habits &amp; your brain changes. Your brain has the ability to organize and reorganize itself during your lifetime.\" 3 Secrets To Changing Your Brain For Greater Success And Happiness You May Not Know! https://t.co/EhN89CueR2 https://t.co/6W2EVNNDjB\\'', nan, nan), nan)\n",
            "((\"'even though 2021 may be just as bad as 2020 was\", \" I have a weird sense of relief and comfort leading up to Jan 1st. I’ve never felt more ready and at peace to end a year. We all got through this year together and I pray for all of our happiness and health'\", nan), nan)\n",
            "((\"including dying for him. Will also won’t see Jem’s heart broken, despite his friend's happiness coming at the cost of his own. That’s just how it is with Will where Jem is+\", nan, nan), nan)\n",
            "((\"'Happy Birthday to the most beautiful angel @BTS_twt 💜 thank you for being my forever comfort and happiness. i love you so so much taehyung \\\\xa0(\\\\xa0Ĭ\\\\xa0^\\\\xa0Ĭ\\\\xa0)\\\\xa0 https://t.co/JXXMGlOrLg'\", nan, nan), nan)\n",
            "((\"'@girlsreallyrule Hector and the search for happiness!!  It’s great. A little bit of everything. Total feel good. 😊'\", nan, nan), nan)\n",
            "((\"'happy birthday to our baby bear 🥳🎉🐻 thank you for being our happiness and comfort    i love you💜\\\\n#HappyBirthdayTaehyung \\\\n#HappyTaehyungDay \\\\n#WinterPrinceTaehyung\\\\n #HAPPYVDAY_태형이의날들이밝게빛나길 https://t.co/rWju11LSPf'\", nan, nan), nan)\n",
            "((\"'People spend their entire lives hoping to find the kind of happiness I experience whenever I see an incredibly hairy snatch. I pity them\", ' really', \" I do. 😔'\"), nan)\n",
            "((\"'Happy birthday to the person who tries to interact with us whenever he can and always comfort us with his songs! Wishing you endless happiness\", \" I love you💜\\\\n#HappyTaehyungDay #HAPPYVDAY #WinterPrinceTaehyung\\\\n#아미의행복전도사_태형의_26번째생일\\\\n#겨울에태어난_우리의봄_태형아보라해 https://t.co/NdVut2EPga'\", nan), nan)\n",
            "((\"'Let’s normalize people in marginalized groups NOT being the spokes people for what makes them different. You’re allowed to just live\", ' and be happy', \" and seek your happiness. You don’t have to be Google for people. You’re valid just being.'\"), nan)\n",
            "((\"@jen_wrightcr I'm too old and tired to give two shits on the end of a stick, what people think of me, or what I say or do. I'm here for my happiness, and that's all. If anyone wants to join me, they can, just don't rain on my sunshine.\", nan, nan), nan)\n",
            "((\"'@mmpadellan Happy Anniversary. Wishing you and your wife every happiness.'\", nan, nan), nan)\n",
            "((\"'Happy birthday 🎂 God bless you always 🎊 You deserve all the best I love you desejo I wish you all the happiness in the world that you can fulfill all your dreams because today is a very special day @bighit_merch @Bighit_Edu https://t.co/1BuBzBo2KW'\", nan, nan), nan)\n",
            "((\"'Happiness should be a track 5. Don’t @ me'\", nan, nan), nan)\n",
            "((\"'and its not good...its kocovali Kids against each other in the future🤡\\\\nno happiness\", ' no parents', \" nothing at all\\\\n#cukur https://t.co/xT7cH0rZSz'\"), nan)\n",
            "((\"'@Sarahcake11 Happiness to you. You are in no way alone.'\", nan, nan), nan)\n",
            "(('\\'People be like \"materials don\\\\\\'t measure people\\\\\\'s happiness\" and then go shit on rich depressed kids\\'', nan, nan), nan)\n",
            "((\"'#Sedona pre-New Year’s happiness. https://t.co/yc3ZWeDemG'\", nan, nan), nan)\n",
            "((\"'@IvankaTrump @realDonaldTrump Peace light and happiness to you all in the Trump households!'\", nan, nan), nan)\n",
            "((\"'Adult tings: Finding out my car can get fixed under warranty - pure happiness !'\", nan, nan), nan)\n",
            "((\"'I love it when you smile at me you will never to .... with me! I will be that happiness that holds your heart and when you sleep I’d find my way into your dreams! Black magic repete!!  My song! I love it up to this day!! 😩😩😩❤️❤️ https://t.co/AfNJeiIRvM'\", nan, nan), nan)\n",
            "((\"'taehyung\", \" thank you for coming into my life and for putting lots of love and happiness to it! 🥺💜'\", nan), nan)\n",
            "((\"'Good Mewning @MSuppasit 💖☘️🐼\\\\nHope you always happy. You are the happiness of Mewlions ❤️ #MewSuppasit\\\\n#mewlions https://t.co/uz1X6xgBvq'\", nan, nan), nan)\n",
            "((\"'I am taking steps to make my dreams a reality! Dreams become reality one choice at a time:) #lifesolutionist #thelifesolutionist #gainclarity #around #dreams #identify #actionsneeded #tomakeithappen #letgofears #believeyoudeserveit #manifest #happiness #abundance #dreamscometrue https://t.co/1qqAsFG0bc'\", nan, nan), nan)\n",
            "((\"'Happiness is when going to sleep is no longer a means of escape.💆💆'\", nan, nan), nan)\n",
            "(('\\'MORNING MY PRETTY BOY 🌤☀️🌊\\\\n\\\\n\"My beautiful angel have an excellent day', ' full of happiness and many joys', ' enjoy your day to the fullest'), ' eat well and stay safe. I love you my sun @zee_pruk\" ☀️💙\\\\n\\\\n            #ZeePruk #ZunShine \\\\n\\\\n⭐~♡~🔥~Same poses')\n",
            "((\"'You’re going to make it. #optimism #positivity #motivation #love #positivevibes #optimistic #life #happiness #inspiration #hope #quotes #believe #positive #happy #quoteoftheday #mindset #success #selflove #mentalhealth #gratitude #smile #kindness #vws\\\\nSource: @mirrorsreflectyou https://t.co/REwCztnMCv'\", nan, nan), nan)\n",
            "((\"'@APSchrader Congratulations to you both. \\\\nWish you many years of happiness together..'\", nan, nan), nan)\n",
            "((\"'@avatdeoceania @badphroggy @prageru There’s a very interesting book by the CEO of Whole Foods called “Conscious Capitalism.” It may be something you’d enjoy. Of course there is a bridge towards wholistic society based wellness and happiness and free markets!'\", nan, nan), nan)\n",
            "((\"'happiest birthday to our best boy V. may you receive all the happiness and good things in life. luvyu! @BTS_twt #HappyTaehyungDay #HAPPYVDAY 💜💛'\", nan, nan), nan)\n",
            "((\"@Genius_Billion of love and happiness in his life. He didn't know what he'd done to deserve it, but he was surely thankful.\", nan, nan), nan)\n",
            "((\"'Once again i have to say to the one who always there for me\", ' who has brought so much happiness and light for me--\\\\nTete', \" happy birthday and i love you sm my angel💜\\\\n#HAPPYVDAY https://t.co/yZy1krzMHy'\"), nan)\n",
            "(('\\'@braxton_mccoy @Mike___Kilo @vigothecarpath Thank you. I\\\\\\'m sick and tired about the \"line in the sand\" that \"shouldn\\\\\\'t\" be crossed be total confiscation. \\\\n\\\\nAre guns all there is to \"life', ' liberty', ' and pursuit of happiness\"?\\\\n\\\\nTaxes alone should\\\\\\'ve triggered CW2.0\\\\n\\\\nWe\\\\\\'re part-time slaves working 3-4 months for free!!\\''), nan)\n",
            "((\"@TheCutPodcast1 Now while it isn't my favorite flavor, I do enjoy it in small doses (and mint chocolate can be delightful in brownies and thin mint cookies) ... but happiness terrorist had me laughing so hard I started coughing.\", nan, nan), nan)\n",
            "((\"'@__EthelByrond__ Happiness is a choice'\", nan, nan), nan)\n",
            "((\"'To reach the level of success and happiness you long for\", \" being selfish is your only option.'\", nan), nan)\n",
            "((\"'@jennie_hiu Yess you can do it.... cherishing for your happiness as always.... https://t.co/s2jDsxVrbK'\", nan, nan), nan)\n",
            "((\"'The happiness these two pictures give me https://t.co/mJhkp910YU'\", nan, nan), nan)\n",
            "((\"'If you love this happiness on our Nene Popo\", \" retweet this tag massively\\\\n\\\\n#Nengi23Loading\\\\n#NinjasPartyForNengi https://t.co/VAKIInLfWr'\", nan), nan)\n",
            "((\"'Dear Taehyung\", ' thank you for being the person you are', \" bring much joy and happiness to your fans and everyone you meet. Thank you for your music and the joy it brings. You are forever winter 🐻 @BTS_twt'\"), nan)\n",
            "((\"'whoever said money doesn’t buy happiness is a #liar #scumbag'\", nan, nan), nan)\n",
            "((\"'@IRAxNjw @aIwaysparrow @wonderxmorte va a sonar happiness de fondo'\", nan, nan), nan)\n",
            "((\"some minutes I'm hanging in there mostly to see Mitch McConnell die which doesn't sound good but I am at the point where it would bring me happiness I think\", nan, nan), nan)\n",
            "((\"“Luxury is...\\\\n\\\\nto be able to take control of one's life, health, and the pursuit of happiness in a way that is joyful.”\\\\n\\\\n-Andre Leon Talley\", nan, nan), nan)\n",
            "((\"'True happiness comes from making others happy. Seeing their smile is enough to sooth ur heart'\", nan, nan), nan)\n",
            "((\"'you deserve all the happiness💕'\", nan, nan), nan)\n",
            "((\"'@T_Potz @MeadowsRichard Don’t love it! I think you are unlikely to feel truly satisfied knowing you have lowered your expectations to reverse engineer happiness. I think staying authentic to your goals and then choosing to process reality positively is a better approach.'\", nan, nan), nan)\n",
            "((\"'@moondeday On your birthday I want to send you the most wonderful message with love\", ' good health and happiness. Happy birthday to the most amazing person', ' Joshua Hong'), \" love yaaa♡♡ @pledis_17'\")\n"
          ]
        }
      ]
    },
    {
      "cell_type": "markdown",
      "source": [
        ""
      ],
      "metadata": {
        "id": "bASuWF2q7C_1"
      }
    },
    {
      "cell_type": "markdown",
      "source": [
        ""
      ],
      "metadata": {
        "id": "Im-qoBn87DY1"
      }
    },
    {
      "cell_type": "code",
      "source": [
        ""
      ],
      "metadata": {
        "id": "1unKlUsa7DhB"
      },
      "execution_count": null,
      "outputs": []
    },
    {
      "cell_type": "markdown",
      "source": [
        "***Extracting Tweets from Users***"
      ],
      "metadata": {
        "id": "oFTxPnhQz8Ro"
      }
    },
    {
      "cell_type": "code",
      "source": [
        "user_name = \"nytimes\"\n",
        "user_tweets = \"snscrape --format '{date}{content!r}'\"+ f\" --max-results {max_results} --since {start} twitter-user '{user_name} until:{stop}' >> user-tweets.txt\"\n",
        "os.system(user_tweets)\n",
        "if os.stat(\"user-tweets.txt\").st_size == 0:\n",
        "  print('No Tweets found')\n",
        "else:\n",
        "  df = pd.read_csv('user-tweets.txt', names=['content'])\n",
        "  for row in df['content'].iteritems():\n",
        "    print(row)"
      ],
      "metadata": {
        "colab": {
          "base_uri": "https://localhost:8080/"
        },
        "id": "GaR0MDeMz0fi",
        "outputId": "0cef6e7c-7ea1-4992-d088-09e68aebf4be"
      },
      "execution_count": null,
      "outputs": [
        {
          "output_type": "stream",
          "name": "stdout",
          "text": [
            "(0, '2020-12-29 23:45:04+00:00\"The Affordable Care Act\\'s expansion of Medicaid and its offer of subsidized health plans have provided a new safety net for those who have lost their jobs and their health insurance during the pandemic recession.\\\\nhttps://t.co/E1W2EPlFtI\"')\n",
            "(1, '2020-12-29 23:30:14+00:00\\'President-elect Joe Biden criticized the Trump administration’s speed in distributing the vaccine and vowed he would increase the pace. \"This is going to be the greatest operational challenge we’ve ever faced as a nation. But we’re going to get it done.\" https://t.co/Kkrlf86fxU https://t.co/dOt9JGTmOx\\'')\n",
            "(2, \"2020-12-29 23:13:46+00:00'Breaking News: At least one more police officer connected to the botched raid that led to the death of Breonna Taylor will be fired\")\n",
            "(3, \"2020-12-29 23:00:19+00:00'In Opinion\\\\n\\\\nDr. Daniela J. Lamas writes\")\n",
            "(4, \"2020-12-29 22:50:05+00:00'Two million children in the U.S. had tested positive for the coronavirus as of Dec. 24\")\n",
            "(5, \"2020-12-29 22:40:07+00:00'“When you look today and see so-called white evangelicalism\")\n",
            "(6, \"2020-12-29 22:30:06+00:00'Thousands of Georgia voters will not be removed from registration lists after a federal judge blocked two counties from purging names based on change-of-address data. The ruling comes before two runoff elections that will determine control of the Senate. https://t.co/MNt2fPm9NH'\")\n",
            "(7, \"2020-12-29 22:19:38+00:00'Strict stay-at-home orders were extended into 2021 in California’s vast southern region and Central Valley\")\n",
            "(8, '2020-12-29 22:06:49+00:00\"A case of the more contagious coronavirus variant first discovered in Britain has been identified in Colorado')\n",
            "(9, \"2020-12-29 22:00:11+00:00'In communities struggling with poverty and gun violence\")\n",
            "(10, '2020-12-29 21:40:02+00:00\"2020 saw huge increases in homicides and shootings in New York City. “I can’t imagine a darker period')\n",
            "(11, \"2020-12-29 21:20:03+00:00'Black homeowners often have a harder time getting insurers to pay claims. While claims disputes are hardly uncommon in the industry\")\n",
            "(12, \"2020-12-29 21:10:04+00:00'Over the weekend\")\n",
            "(13, \"2020-12-29 21:07:49+00:00'Before McConnell blocked the vote\")\n",
            "(14, \"2020-12-29 21:00:18+00:00'Even for those who still love fur\")\n",
            "(15, \"2020-12-29 20:40:02+00:00'The U.S. government will pay unemployment benefits for the week of Dec. 27\")\n",
            "(16, '2020-12-29 20:20:06+00:00\\'Should you jump the line for the Covid vaccine if you get the opportunity? \"When reasonable rules have been set in place')\n",
            "(17, '2020-12-29 19:20:06+00:00\\'In Opinion\\\\n\\\\n\"I don’t want to be a mom who spies on her kids. I don’t want to be a mom who yells in public')\n",
            "(18, \"2020-12-29 19:05:05+00:00'The first patient in Britain to receive the coronavirus vaccine received her second injection on Tuesday\")\n",
            "(19, '2020-12-29 19:00:10+00:00\"The Senate will vote Wednesday on whether to override President Trump\\'s veto of a military bill')\n",
            "(20, \"2020-12-29 18:40:04+00:00'Democratic hopes in Georgia rest on grass-roots groups being able to achieve the previously unachievable. “It’s unheard-of to turn out more people in a runoff than the general election\")\n",
            "(21, \"2020-12-29 18:30:07+00:00'A New Jersey man was wrongly accused of shoplifting and trying to hit an officer with a car after he was identified by the police using facial recognition software. He is the third Black man known to be wrongfully arrested based on face recognition.\\\\nhttps://t.co/8xMMA2qM0u'\")\n",
            "(22, \"2020-12-29 18:27:29+00:00'The federal government has released new dietary guidelines\")\n",
            "(23, '2020-12-29 18:20:04+00:00\"How a Covid patient\\'s viral load could help predict chances of recovery\\\\nhttps://t.co/c1203VXw2F\"')\n",
            "(24, '2020-12-29 18:14:29+00:00\"Sen. Mitch McConnell sidestepped a vote on $2')\n",
            "(25, \"2020-12-29 18:10:04+00:00'Here are the 13 most popular dispatches from our international correspondents this year. https://t.co/AzGKMXWzNg'\")\n",
            "(26, \"2020-12-29 18:00:08+00:00'“You’re on mute” was said on 1\")\n",
            "(27, \"2020-12-29 17:40:03+00:00'In Opinion\\\\n\\\\nNeal K. Katyal\\\\xa0and\\\\xa0John Monsky write\")\n",
            "(28, \"2020-12-29 17:34:57+00:00'There may be a way for doctors to help distinguish between Covid-19 patients who are more likely to deteriorate and those who are more likely to recover. It comes down to knowing a person’s “viral load\")\n",
            "(29, \"2020-12-29 17:30:12+00:00'Vice President-elect Kamala Harris received her first dose of the Covid-19 vaccine on Tuesday.  “I trust the scientists\")\n",
            "(30, \"2020-12-29 17:20:05+00:00'Covid-19 ravaged this town as badly as anywhere in America. In the hospital\")\n",
            "(31, \"2020-12-29 17:10:05+00:00'A German Army officer who posed as a refugee is accused of terrorism\\\\nhttps://t.co/D67a0e6RBX'\")\n",
            "(32, '2020-12-29 17:05:03+00:00\"Russia\\'s death toll from Covid-19 is more than three times as high as officially reported')\n",
            "(33, \"2020-12-29 17:00:04+00:00'Today’s Great Read: The question of whether or not to interact with Amazon has already been answered for many people. The choice is no longer whether to enter the Everything Store. It’s about trying to locate the exit. https://t.co/bYDaO0xMjl'\")\n",
            "(34, \"2020-12-29 16:37:11+00:00'Update: At least six people were killed\")\n",
            "(35, \"2020-12-29 16:30:07+00:00'About half of England is under the nation’s strictest lockdown measures\")\n",
            "(36, \"2020-12-29 16:15:09+00:00'South Africa will help produce a promising Covid-19 vaccine. But in a stark example of inequity\")\n",
            "(37, \"2020-12-29 16:00:12+00:00'A statue memorializing Breonna Taylor in Oakland\")\n",
            "(38, \"2020-12-29 15:57:02+00:00'Boeing’s 737 Max plane returned to the skies in the U.S. after being grounded worldwide for almost two years. https://t.co/kiazLgIQmW'\")\n",
            "(39, \"2020-12-29 15:41:57+00:00'The case spawned an investigation that led German authorities into a labyrinth of extremist networks at all levels of the nation’s security services — a threat that\")\n",
            "(40, \"2020-12-29 15:41:57+00:00'When he does\")\n",
            "(41, \"2020-12-29 15:41:56+00:00'The arrest of the officer\")\n",
            "(42, \"2020-12-29 15:40:05+00:00'A German Army officer used shoe shine and makeup to pose as a refugee in 2017. The ruse\")\n",
            "(43, \"2020-12-29 15:00:06+00:00'In a year of incalculable loss and grief\")\n",
            "(44, \"2020-12-29 08:40:01+00:00'A German army officer used shoe shine and makeup to pose as a refugee in 2017. The ruse\")\n",
            "(45, \"2020-12-29 08:00:09+00:00'Pope Francis has stripped the Vatican’s most powerful office of its significant financial assets\")\n",
            "(46, \"2020-12-29 07:00:06+00:00'Global inequality is shaping which countries get vaccines first. South Africa is helping to produce a promising Covid-19 vaccine\")\n",
            "(47, \"2020-12-29 05:00:10+00:00'Stay-at-home orders for most Californians are all but guaranteed to be extended\")\n",
            "(48, \"2020-12-29 04:40:06+00:00'Many workers have had unused vacation days pile up this year\")\n",
            "(49, \"2020-12-29 04:20:03+00:00'Neptune boasts some of the strangest weather in the solar system. While observing the planet’s large inky storm\")\n",
            "(50, \"2020-12-29 04:00:13+00:00'Dr. H. Jack Geiger\")\n",
            "(51, \"2020-12-29 03:40:03+00:00'Nashville takes pride in its regular place atop lists of friendliest cities and is known for a certain can-do attitude. But some feel like that resolve could be nearing its limits.\\\\nhttps://t.co/yOTEeSYRcy'\")\n",
            "(52, \"2020-12-29 03:20:05+00:00'The stimulus bill gained momentum as an issue in the Georgia Senate runoffs as the Republicans tried to claim credit for bringing pandemic relief to the state and the Democrats said the $600 payments to Americans were too low.\\\\nhttps://t.co/hWTa0Zx3n0'\")\n",
            "(53, \"2020-12-29 02:40:05+00:00'Newly-released body camera footage from a police officer at the scene of the Nashville bombing captured the force of the blast and the confusion that followed. Investigators are still searching for a motive.\\\\nhttps://t.co/Up0ohOjoDn'\")\n",
            "(54, \"2020-12-29 02:20:02+00:00'The Army Green Beret charged with opening fire at a bowling alley and restaurant in Rockford\")\n",
            "(55, \"2020-12-29 01:40:02+00:00'Roger Federer\")\n",
            "(56, '2020-12-29 01:30:09+00:00\\'\"President Trump’s threat to veto a $900 billion Covid relief and government funding bill merely underscored his tumultuous tenure in the Oval Office')\n",
            "(57, \"2020-12-28 22:20:06+00:00'The Eritrean refugees had taken sanctuary in northern Ethiopia\")\n",
            "(58, \"2020-12-28 22:02:29+00:00'A judge rejected a $28.5 million bail proposal from Ghislaine Maxwell\")\n",
            "(59, \"2020-12-28 22:00:14+00:00'The size of upcoming stimulus checks is still unclear. But the full stimulus package also includes:\\\\n— Increased monthly food stamp benefits\\\\n— A ban on surprise medical bills\\\\n— Funding for vaccines and nursing homes\\\\nhttps://t.co/VeuSbqlkkJ'\")\n",
            "(60, \"2020-12-28 21:40:02+00:00'How full are the hospitals near you? Our interactive map shows how coronavirus cases have affected hospital capacity in the U.S. Health officials said that the data should not discourage sick people from seeking care. https://t.co/d90SlHbfdZ'\")\n",
            "(61, \"2020-12-28 21:20:07+00:00'As the pandemic has dragged on\")\n",
            "(62, \"2020-12-28 21:15:05+00:00'New York will ban most evictions for at least another 60 days\")\n",
            "(63, \"2020-12-28 21:10:02+00:00'President Trump has doled out pardons to friends and fellow Republicans. Thousands of others without connections have largely been left out. https://t.co/jKoH700T9R'\")\n",
            "(64, \"2020-12-28 21:00:15+00:00'These breakfast treats have a surprise layer of crunchy\")\n",
            "(65, \"2020-12-28 20:50:01+00:00'Kentucky needs help. But when federal aid arrives\")\n",
            "(66, \"2020-12-28 20:40:03+00:00'Seniors in Florida lined up outdoors overnight after the Lee County Health Department announced first-come\")\n",
            "(67, \"2020-12-28 20:35:05+00:00'Investigators are searching for a motive in the Nashville bombing\")\n",
            "(68, \"2020-12-28 20:30:03+00:00'Snakes are gentle\")\n",
            "(69, '2020-12-28 20:15:07+00:00\"Today\\'s Great Read:\\\\n\\\\nSome of the most vocal and dedicated music enthusiasts have embraced the term “stan” — taken from the 20-year-old Eminem song about a superfan turned homicidal stalker — and are redefining what it means to love an artist.\\\\nhttps://t.co/6EWNY4qRFB\"')\n",
            "(70, \"2020-12-28 20:00:10+00:00'The underwear start-up Parade is one of many brands forgoing paid influencer campaigns in favor of sending products to micro-influencers. https://t.co/GOsDmwMhAa'\")\n",
            "(71, \"2020-12-28 19:40:02+00:00'In Opinion \\\\n\\\\n“The earth from space is an incomparably lovely sight\")\n",
            "(72, \"2020-12-28 19:30:05+00:00'Spain plans to collect and share with other European Union nations information about residents who refuse to get vaccinated for Covid-19\")\n",
            "(73, \"2020-12-28 19:20:10+00:00'A small number of Covid patients who had never experienced mental health problems are developing severe psychotic symptoms weeks after contracting the coronavirus. Cases are expected to remain rare but are being reported worldwide. https://t.co/t2MczoODgs'\")\n",
            "(74, \"2020-12-28 19:10:01+00:00'The New York Post backed President Trump in October with a front-page endorsement: “Make America Great Again\")\n"
          ]
        }
      ]
    },
    {
      "cell_type": "markdown",
      "source": [
        "Extracting tweets by search word and user"
      ],
      "metadata": {
        "id": "eD8nc9WB2LtZ"
      }
    },
    {
      "cell_type": "code",
      "source": [
        "tweet_count = 500\n",
        "#username ='BrianCAlbrecht'\n",
        "username =[\"BrianCAlbrecht\"]  # must be in a list\n",
        "text_query = [\"job\"]\n",
        "since_date = \"2016-01-01\"\n",
        "until_date = \"2021-10-14\"\n",
        "for person in username:\n",
        "  print('person:', person)\n",
        "  for word in text_query:\n",
        "    print('word', word)\n",
        "    print('CMD:', \"snscrape --format '{date},{content!r}' \" + f\"--max-results {tweet_count} --since {since_date} twitter-search '{word} from:{person} until:{until_date}' >>user-tweets.txt\")\n",
        "    #os.system(\"snscrape --format '{date},{content!r}' \" + f\"--max-results {tweet_count} --since {since_date} twitter-search '{word} from:{person} until:{until_date}' >>user-tweets.txt\")\n",
        "    result = os.system(\"snscrape --format '{date},{content!r}' \" + f\"--max-results {tweet_count} --since {since_date} twitter-search '{word} from:{person} until:{until_date}'\")\n",
        "    print('RESULT:', result)"
      ],
      "metadata": {
        "id": "Jn1lRzocwPqm",
        "colab": {
          "base_uri": "https://localhost:8080/"
        },
        "outputId": "07578b78-4aef-4248-d2ee-cd91f55cb0e8"
      },
      "execution_count": null,
      "outputs": [
        {
          "output_type": "stream",
          "name": "stdout",
          "text": [
            "person: BrianCAlbrecht\n",
            "word job\n",
            "CMD: snscrape --format '{date},{content!r}' --max-results 500 --since 2016-01-01 twitter-search 'job from:BrianCAlbrecht until:2021-10-14' >>user-tweets.txt\n",
            "RESULT: 0\n"
          ]
        }
      ]
    },
    {
      "cell_type": "code",
      "source": [
        "# no result"
      ],
      "metadata": {
        "id": "ObVL8WRc3AbO"
      },
      "execution_count": null,
      "outputs": []
    }
  ]
}